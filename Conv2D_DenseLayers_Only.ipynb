{
 "cells": [
  {
   "cell_type": "code",
   "execution_count": 1,
   "id": "d9b7cb95-cf93-484b-8131-7179c0fac3ee",
   "metadata": {},
   "outputs": [
    {
     "name": "stderr",
     "output_type": "stream",
     "text": [
      "2021-10-09 20:03:33.513928: W tensorflow/stream_executor/platform/default/dso_loader.cc:64] Could not load dynamic library 'libcudart.so.11.0'; dlerror: libcudart.so.11.0: cannot open shared object file: No such file or directory\n",
      "2021-10-09 20:03:33.513945: I tensorflow/stream_executor/cuda/cudart_stub.cc:29] Ignore above cudart dlerror if you do not have a GPU set up on your machine.\n"
     ]
    },
    {
     "data": {
      "text/plain": [
       "'2.6.0'"
      ]
     },
     "execution_count": 1,
     "metadata": {},
     "output_type": "execute_result"
    }
   ],
   "source": [
    "import tensorflow as tf\n",
    "tf.__version__"
   ]
  },
  {
   "cell_type": "code",
   "execution_count": 2,
   "id": "1798b315-2535-4fd9-bf61-5f1875228eca",
   "metadata": {},
   "outputs": [],
   "source": [
    "mnist = tf.keras.datasets.mnist # 0-9, 28x28 images, 1 colour channel"
   ]
  },
  {
   "cell_type": "code",
   "execution_count": 3,
   "id": "ea6a35be-c0ee-41d2-bc31-e3b92ade0139",
   "metadata": {},
   "outputs": [],
   "source": [
    "(trainX, trainY), (testX, testY) = mnist.load_data() # trainX is an array, etc, arraying from 0-255"
   ]
  },
  {
   "cell_type": "code",
   "execution_count": 10,
   "id": "b0835988-b08b-483b-859a-4a9902cf8611",
   "metadata": {},
   "outputs": [
    {
     "data": {
      "image/png": "[encoded data removed]",
      "text/plain": [
       "<Figure size 432x288 with 1 Axes>"
      ]
     },
     "metadata": {
      "needs_background": "light"
     },
     "output_type": "display_data"
    }
   ],
   "source": [
    "import matplotlib.pyplot as plt\n",
    "plt.imshow(trainX[0])\n",
    "plt.show()"
   ]
  },
  {
   "cell_type": "code",
   "execution_count": 11,
   "id": "4b7c7e4c-7596-4e99-9cf3-b9eeae2ffb19",
   "metadata": {},
   "outputs": [
    {
     "data": {
      "image/png": "[encoded data removed]",
      "text/plain": [
       "<Figure size 432x288 with 1 Axes>"
      ]
     },
     "metadata": {
      "needs_background": "light"
     },
     "output_type": "display_data"
    }
   ],
   "source": [
    "plt.imshow(trainX[0], cmap = plt.cm.binary) # convert to grayscale image\n",
    "plt.show()"
   ]
  },
  {
   "cell_type": "code",
   "execution_count": 12,
   "id": "0b61889a-4b16-4887-be05-a12e6010d2f4",
   "metadata": {},
   "outputs": [],
   "source": [
    "trainX = tf.keras.utils.normalize(trainX, axis=1) # values will be scaled between 0-1, easier for CNN to learn\n",
    "testX = tf.keras.utils.normalize(testX, axis=1) # values will be scaled between 0-1, easier for CNN to learn"
   ]
  },
  {
   "cell_type": "code",
   "execution_count": 39,
   "id": "84b5e7d0-f5aa-4f8d-8d1e-cca99d4f8a6e",
   "metadata": {},
   "outputs": [
    {
     "name": "stdout",
     "output_type": "stream",
     "text": [
      "Epoch 1/3\n",
      "1875/1875 [==============================] - 2s 1ms/step - loss: 0.2597 - accuracy: 0.9235\n",
      "Epoch 2/3\n",
      "1875/1875 [==============================] - 2s 1ms/step - loss: 0.1084 - accuracy: 0.9670\n",
      "Epoch 3/3\n",
      "1875/1875 [==============================] - 2s 1ms/step - loss: 0.0735 - accuracy: 0.9768\n"
     ]
    },
    {
     "data": {
      "text/plain": [
       "<keras.callbacks.History at 0x7f5520462520>"
      ]
     },
     "execution_count": 39,
     "metadata": {},
     "output_type": "execute_result"
    }
   ],
   "source": [
    "# build the model\n",
    "model = tf.keras.models.Sequential() # most common model, feed forward model\n",
    "model.add(tf.keras.layers.Flatten()) # flattens out the input layer\n",
    "model.add(tf.keras.layers.Dense(128, activation=tf.nn.relu)) # 128 units/neurons, activation function ReLU\n",
    "model.add(tf.keras.layers.Dense(128, activation=tf.nn.relu))\n",
    "model.add(tf.keras.layers.Dense(10, activation=tf.nn.softmax)) #output layer, # neurons will be # of classifications, 10 (0-9)\n",
    "\n",
    "model.compile(optimizer='adam', # \n",
    "              loss='sparse_categorical_crossentropy',\n",
    "             metrics=['accuracy'])\n",
    "model.fit(trainX, trainY, epochs=3) # epoch is the number of passes of the entire training dataset"
   ]
  },
  {
   "cell_type": "code",
   "execution_count": 18,
   "id": "c684be8a-67db-4994-a378-fe8e684594c5",
   "metadata": {},
   "outputs": [
    {
     "name": "stdout",
     "output_type": "stream",
     "text": [
      "313/313 [==============================] - 0s 833us/step - loss: 0.1016 - accuracy: 0.9696\n",
      "0.10155905038118362 0.9696000218391418\n"
     ]
    }
   ],
   "source": [
    "\"\"\"\n",
    "97.6% accuracy afteer 3 epochs.\n",
    "\n",
    "NN are great at fitting, did they overfit? \n",
    "\n",
    "The hope is that our model generalized, learned patterns and attributes to what makes an 8 or a 4, \n",
    "instead of just memorizing.\n",
    "\n",
    "\"\"\"\n",
    "\n",
    "# calculate validation loss and accuracy\n",
    "valLoss, valAcc = model.evaluate(testX, testY)\n",
    "print(valLoss, valAcc)"
   ]
  },
  {
   "cell_type": "code",
   "execution_count": 20,
   "id": "83c1e9cb-3350-4c22-aa47-a8286aaea146",
   "metadata": {},
   "outputs": [
    {
     "name": "stderr",
     "output_type": "stream",
     "text": [
      "2021-10-09 20:24:45.068647: W tensorflow/python/util/util.cc:348] Sets are not currently considered sequences, but this may change in the future, so consider avoiding using them.\n"
     ]
    },
    {
     "name": "stdout",
     "output_type": "stream",
     "text": [
      "INFO:tensorflow:Assets written to: testModel.model/assets\n"
     ]
    }
   ],
   "source": [
    "# save the model\n",
    "model.save('testModel.model')\n",
    "newModel = tf.keras.models.load_model('testModel.model')\n",
    "\n",
    "predictions = newModel.predict([testX])"
   ]
  },
  {
   "cell_type": "code",
   "execution_count": 22,
   "id": "6b40df56-809c-4e0e-b177-945d9ca981a9",
   "metadata": {},
   "outputs": [
    {
     "name": "stdout",
     "output_type": "stream",
     "text": [
      "[[1.2741926e-07 4.3684378e-07 8.2632148e-05 ... 9.9925917e-01\n",
      "  1.6956891e-06 8.6560640e-06]\n",
      " [2.9335894e-07 1.6409793e-05 9.9996769e-01 ... 1.1022260e-08\n",
      "  1.1138515e-05 2.7292012e-12]\n",
      " [3.9516770e-08 9.9981171e-01 1.0886433e-05 ... 9.9273035e-05\n",
      "  2.7384835e-05 5.8019378e-07]\n",
      " ...\n",
      " [1.0129554e-09 1.4624534e-08 3.2730004e-08 ... 8.2366205e-06\n",
      "  3.6226770e-06 7.2175654e-04]\n",
      " [1.9677553e-05 1.8442339e-06 6.1223327e-05 ... 5.8940286e-06\n",
      "  3.4452186e-03 2.1867697e-08]\n",
      " [2.2068998e-05 9.1164098e-09 2.2006343e-07 ... 1.5447435e-11\n",
      "  2.5709920e-07 1.9462711e-09]]\n"
     ]
    }
   ],
   "source": [
    "print(predictions) # prints one hot arrays, the probability distributions"
   ]
  },
  {
   "cell_type": "code",
   "execution_count": 40,
   "id": "d6f5ceae-3d34-4771-98c0-7628eda9b38d",
   "metadata": {},
   "outputs": [
    {
     "data": {
      "image/png": "[encoded data removed]",
      "text/plain": [
       "<Figure size 432x288 with 1 Axes>"
      ]
     },
     "metadata": {
      "needs_background": "light"
     },
     "output_type": "display_data"
    }
   ],
   "source": [
    "plt.imshow(testX[1])\n",
    "plt.show()"
   ]
  },
  {
   "cell_type": "code",
   "execution_count": 41,
   "id": "7fa7a016-b28f-46bd-ba65-8d03a418df5c",
   "metadata": {},
   "outputs": [
    {
     "name": "stdout",
     "output_type": "stream",
     "text": [
      "2\n"
     ]
    }
   ],
   "source": [
    "import numpy as np\n",
    "print(np.argmax(predictions[1]))"
   ]
  },
  {
   "cell_type": "code",
   "execution_count": null,
   "id": "4b7f4ad1-fa2a-477b-b068-c2105f95030d",
   "metadata": {},
   "outputs": [],
   "source": []
  }
 ],
 "metadata": {
  "kernelspec": {
   "display_name": "Python 3 (ipykernel)",
   "language": "python",
   "name": "python3"
  },
  "language_info": {
   "codemirror_mode": {
    "name": "ipython",
    "version": 3
   },
   "file_extension": ".py",
   "mimetype": "text/x-python",
   "name": "python",
   "nbconvert_exporter": "python",
   "pygments_lexer": "ipython3",
   "version": "3.9.5"
  }
 },
 "nbformat": 4,
 "nbformat_minor": 5
}
