{
 "cells": [
  {
   "cell_type": "markdown",
   "id": "199790c3-6881-481f-a859-7e96cf8228b7",
   "metadata": {},
   "source": [
    "# COMP-4730 Project 1: Convolutional Neural Network on MNIST Dataset\n",
    "Submitted by: Saffa Alvi, Nour ElKott, Nandini Patel <br>\n",
    "October 22, 2021 <br>\n",
    "\n",
    "This file contains the source code for our CNN architecture and \n",
    "shows the application of our model to the MNIST dataset."
   ]
  },
  {
   "cell_type": "code",
   "execution_count": 1,
   "id": "89fc36e4",
   "metadata": {},
   "outputs": [],
   "source": [
    "import tensorflow as tf\n",
    "import numpy as np"
   ]
  },
  {
   "cell_type": "code",
   "execution_count": 2,
   "id": "3363a86f",
   "metadata": {},
   "outputs": [],
   "source": [
    "# Public API for tf.keras.datasets.mnist namespace - import TensorFlow and MNIST dataset under the Keras API\n",
    "mnist = tf.keras.datasets.mnist # 0-9, 28x28 images, 1 colour channel"
   ]
  },
  {
   "cell_type": "markdown",
   "id": "016d6b02-4b27-4650-affb-a1c5b684cf35",
   "metadata": {
    "tags": []
   },
   "source": [
    "Separated as train and test, separates the labels/classes and the images.<br>\n",
    "X_train and X_test parts contain greyscale RGB codes (from 0 to 255).<br>\n",
    "Y_train and Y_test parts contain labels from 0 to 9 for the image number."
   ]
  },
  {
   "cell_type": "code",
   "execution_count": 3,
   "id": "3d097367",
   "metadata": {},
   "outputs": [],
   "source": [
    "(X_train, Y_train), (X_test, Y_test) = mnist.load_data() "
   ]
  },
  {
   "cell_type": "code",
   "execution_count": 4,
   "id": "47993048-ec7d-4ba1-9590-540127a7dc69",
   "metadata": {
    "tags": []
   },
   "outputs": [
    {
     "name": "stdout",
     "output_type": "stream",
     "text": [
      "Train dataset size:  (60000, 28, 28)\n",
      "Test dataset size:  (10000, 28, 28)\n"
     ]
    }
   ],
   "source": [
    "print(\"Train dataset size: \", X_train.shape)\n",
    "print(\"Test dataset size: \", X_test.shape)"
   ]
  },
  {
   "cell_type": "code",
   "execution_count": 5,
   "id": "f4f55c13",
   "metadata": {
    "tags": []
   },
   "outputs": [
    {
     "data": {
      "image/png": "[encoded data removed]",
      "text/plain": [
       "<Figure size 432x288 with 1 Axes>"
      ]
     },
     "metadata": {
      "needs_background": "light"
     },
     "output_type": "display_data"
    }
   ],
   "source": [
    "# visualize dataset\n",
    "import matplotlib.pyplot as plt\n",
    "plt.imshow(X_train[0])     # display index 0 of training group as an image\n",
    "plt.show()                "
   ]
  },
  {
   "cell_type": "markdown",
   "id": "b209eda1-abd3-421c-be11-9012fc1fd784",
   "metadata": {
    "tags": []
   },
   "source": [
    "**Normalize and Reshape the Datasets** <br>"
   ]
  },
  {
   "cell_type": "code",
   "execution_count": 6,
   "id": "9873d3fc",
   "metadata": {},
   "outputs": [
    {
     "name": "stdout",
     "output_type": "stream",
     "text": [
      "(10000, 28, 28, 1)\n",
      "(60000, 28, 28, 1)\n"
     ]
    }
   ],
   "source": [
    "X_train = tf.keras.utils.normalize(X_train, axis=1) \n",
    "X_test = tf.keras.utils.normalize(X_test, axis=1)   \n",
    "\n",
    "# need to reshape the data as keras needs 4D datasets, and ours are 3D right now\n",
    "X_train = np.expand_dims(X_train, axis=-1)\n",
    "X_test = np.expand_dims(X_test, axis=-1)\n",
    "\n",
    "# new reshaped dataset\n",
    "print(X_test.shape)\n",
    "print(X_train.shape)"
   ]
  },
  {
   "cell_type": "markdown",
   "id": "09603fe9-0fa5-434f-a559-4476a085c4bd",
   "metadata": {
    "tags": []
   },
   "source": [
    "**Building the Model** <br>"
   ]
  },
  {
   "cell_type": "code",
   "execution_count": 7,
   "id": "04fee0ea",
   "metadata": {
    "tags": []
   },
   "outputs": [
    {
     "name": "stderr",
     "output_type": "stream",
     "text": [
      "2021-10-22 19:09:46.090470: I tensorflow/compiler/jit/xla_cpu_device.cc:41] Not creating XLA devices, tf_xla_enable_xla_devices not set\n",
      "2021-10-22 19:09:46.090737: I tensorflow/core/platform/cpu_feature_guard.cc:142] This TensorFlow binary is optimized with oneAPI Deep Neural Network Library (oneDNN) to use the following CPU instructions in performance-critical operations:  AVX2 FMA\n",
      "To enable them in other operations, rebuild TensorFlow with the appropriate compiler flags.\n"
     ]
    }
   ],
   "source": [
    "# build the model\n",
    "model = tf.keras.models.Sequential() # most common model\n",
    "\n",
    "# add the layers\n",
    "\n",
    "# hidden layers\n",
    "model.add(tf.keras.layers.Conv2D(64, (3,3), activation=tf.nn.relu, input_shape=(28, 28, 1)))\n",
    "model.add(tf.keras.layers.MaxPooling2D((2,2)))\n",
    "\n",
    "model.add(tf.keras.layers.Conv2D(128, (3,3), activation=tf.nn.relu))\n",
    "model.add(tf.keras.layers.MaxPooling2D((2,2)))\n",
    "\n",
    "# flattens out the input layer\n",
    "model.add(tf.keras.layers.Flatten()) \n",
    "\n",
    "# output layer\n",
    "# last dense layer must have 10 neurons as we have 10 classes\n",
    "model.add(tf.keras.layers.Dense(10, activation=tf.nn.softmax)) "
   ]
  },
  {
   "cell_type": "markdown",
   "id": "661c4ddb-5c14-4d05-a232-c0a57fca03db",
   "metadata": {},
   "source": [
    "**Compile and Fit the Model** <br>"
   ]
  },
  {
   "cell_type": "code",
   "execution_count": 8,
   "id": "88cfe9c0-d8af-42b6-97d6-370252b309a6",
   "metadata": {
    "tags": []
   },
   "outputs": [
    {
     "name": "stderr",
     "output_type": "stream",
     "text": [
      "2021-10-22 19:09:46.300652: I tensorflow/compiler/mlir/mlir_graph_optimization_pass.cc:116] None of the MLIR optimization passes are enabled (registered 2)\n"
     ]
    },
    {
     "name": "stdout",
     "output_type": "stream",
     "text": [
      "Epoch 1/3\n",
      "1875/1875 [==============================] - 31s 16ms/step - loss: 0.3575 - accuracy: 0.8936\n",
      "Epoch 2/3\n",
      "1875/1875 [==============================] - 31s 16ms/step - loss: 0.0581 - accuracy: 0.9817\n",
      "Epoch 3/3\n",
      "1875/1875 [==============================] - 31s 16ms/step - loss: 0.0387 - accuracy: 0.9882\n"
     ]
    },
    {
     "data": {
      "text/plain": [
       "<tensorflow.python.keras.callbacks.History at 0x7f93bca79520>"
      ]
     },
     "execution_count": 8,
     "metadata": {},
     "output_type": "execute_result"
    }
   ],
   "source": [
    "model.compile(optimizer='adam', loss='sparse_categorical_crossentropy', metrics=['accuracy'])\n",
    "\n",
    "model.fit(X_train, Y_train, epochs=3) # epoch is the number of passes through the entire training dataset"
   ]
  },
  {
   "cell_type": "markdown",
   "id": "faa63ed7-61ac-458e-b33c-5d27ba8ab519",
   "metadata": {},
   "source": [
    "**Calculate Loss and Accuracy using Test Dataset** <br>"
   ]
  },
  {
   "cell_type": "code",
   "execution_count": 9,
   "id": "0fc96f11",
   "metadata": {},
   "outputs": [
    {
     "name": "stdout",
     "output_type": "stream",
     "text": [
      "313/313 [==============================] - 1s 4ms/step - loss: 0.0424 - accuracy: 0.9868\n",
      "0.04236653819680214 0.9868000149726868\n"
     ]
    }
   ],
   "source": [
    "# calculate validation loss and accuracy using the test dataset\n",
    "valLoss, valAcc = model.evaluate(X_test, Y_test)\n",
    "print(valLoss, valAcc)"
   ]
  },
  {
   "cell_type": "markdown",
   "id": "7f0db8d4-af37-470c-9128-e6580c3ffc87",
   "metadata": {},
   "source": [
    "# Summary of Model"
   ]
  },
  {
   "cell_type": "code",
   "execution_count": 10,
   "id": "389bb187-219d-4163-baa7-86af4d3d37ea",
   "metadata": {
    "tags": []
   },
   "outputs": [
    {
     "name": "stdout",
     "output_type": "stream",
     "text": [
      "Model: \"sequential\"\n",
      "_________________________________________________________________\n",
      "Layer (type)                 Output Shape              Param #   \n",
      "=================================================================\n",
      "conv2d (Conv2D)              (None, 26, 26, 64)        640       \n",
      "_________________________________________________________________\n",
      "max_pooling2d (MaxPooling2D) (None, 13, 13, 64)        0         \n",
      "_________________________________________________________________\n",
      "conv2d_1 (Conv2D)            (None, 11, 11, 128)       73856     \n",
      "_________________________________________________________________\n",
      "max_pooling2d_1 (MaxPooling2 (None, 5, 5, 128)         0         \n",
      "_________________________________________________________________\n",
      "flatten (Flatten)            (None, 3200)              0         \n",
      "_________________________________________________________________\n",
      "dense (Dense)                (None, 10)                32010     \n",
      "=================================================================\n",
      "Total params: 106,506\n",
      "Trainable params: 106,506\n",
      "Non-trainable params: 0\n",
      "_________________________________________________________________\n"
     ]
    }
   ],
   "source": [
    "model.summary()"
   ]
  },
  {
   "cell_type": "code",
   "execution_count": 11,
   "id": "bbf981c3",
   "metadata": {
    "tags": []
   },
   "outputs": [
    {
     "name": "stdout",
     "output_type": "stream",
     "text": [
      "[[3.8521797e-10 2.5949685e-09 3.8442313e-06 ... 9.9999619e-01\n",
      "  2.4481309e-11 1.4073452e-08]\n",
      " [1.5301950e-05 4.1903902e-05 9.9915814e-01 ... 5.5063060e-10\n",
      "  1.2132408e-06 4.4277654e-11]\n",
      " [2.3409182e-08 9.9955899e-01 2.7642574e-07 ... 2.0986628e-05\n",
      "  2.5993427e-06 6.5896181e-08]\n",
      " ...\n",
      " [3.1387146e-11 1.6194290e-08 2.3085147e-11 ... 2.9830791e-05\n",
      "  3.5455594e-07 3.0595093e-06]\n",
      " [5.4590942e-07 1.1178773e-10 2.3041604e-08 ... 3.9707151e-11\n",
      "  2.1761144e-03 5.8893587e-08]\n",
      " [1.8250759e-05 1.6092495e-09 6.0637276e-06 ... 8.1935528e-11\n",
      "  9.3911791e-07 1.2700436e-08]]\n"
     ]
    }
   ],
   "source": [
    "predictions = model.predict([X_test])\n",
    "print(predictions) # prints the probability distributions"
   ]
  },
  {
   "cell_type": "markdown",
   "id": "a6a010a7-0bb9-43b3-a45c-30acc15bd768",
   "metadata": {},
   "source": [
    "## Show the handwritten digit and the model prediction"
   ]
  },
  {
   "cell_type": "code",
   "execution_count": 12,
   "id": "92a5570e-58eb-4370-ac60-fcd3277f277a",
   "metadata": {},
   "outputs": [
    {
     "data": {
      "image/png": "[encoded data removed]",
      "text/plain": [
       "<Figure size 432x288 with 1 Axes>"
      ]
     },
     "metadata": {
      "needs_background": "light"
     },
     "output_type": "display_data"
    },
    {
     "name": "stdout",
     "output_type": "stream",
     "text": [
      "Model Prediction:  6\n"
     ]
    },
    {
     "name": "stdin",
     "output_type": "stream",
     "text": [
      "Paused - press ENTER to continue, q to exit:  \n"
     ]
    },
    {
     "data": {
      "image/png": "[encoded data removed]",
      "text/plain": [
       "<Figure size 432x288 with 1 Axes>"
      ]
     },
     "metadata": {
      "needs_background": "light"
     },
     "output_type": "display_data"
    },
    {
     "name": "stdout",
     "output_type": "stream",
     "text": [
      "Model Prediction:  7\n"
     ]
    },
    {
     "name": "stdin",
     "output_type": "stream",
     "text": [
      "Paused - press ENTER to continue, q to exit:  \n"
     ]
    },
    {
     "data": {
      "image/png": "[encoded data removed]",
      "text/plain": [
       "<Figure size 432x288 with 1 Axes>"
      ]
     },
     "metadata": {
      "needs_background": "light"
     },
     "output_type": "display_data"
    },
    {
     "name": "stdout",
     "output_type": "stream",
     "text": [
      "Model Prediction:  6\n"
     ]
    },
    {
     "name": "stdin",
     "output_type": "stream",
     "text": [
      "Paused - press ENTER to continue, q to exit:  \n"
     ]
    },
    {
     "data": {
      "image/png": "[encoded data removed]",
      "text/plain": [
       "<Figure size 432x288 with 1 Axes>"
      ]
     },
     "metadata": {
      "needs_background": "light"
     },
     "output_type": "display_data"
    },
    {
     "name": "stdout",
     "output_type": "stream",
     "text": [
      "Model Prediction:  4\n"
     ]
    },
    {
     "name": "stdin",
     "output_type": "stream",
     "text": [
      "Paused - press ENTER to continue, q to exit:  q\n"
     ]
    }
   ],
   "source": [
    "import random\n",
    "\n",
    "w, x, y, z = X_test.shape\n",
    "\n",
    "while(1):\n",
    "    \n",
    "    # choose random sample from test dataset\n",
    "    num1 = random.randint(0, x)\n",
    "    \n",
    "    # show sample chosen\n",
    "    plt.imshow(X_test[num1])\n",
    "    plt.show()\n",
    "    \n",
    "    # show model prediction\n",
    "    print(\"Model Prediction: \", np.argmax(predictions[num1]))\n",
    "    \n",
    "    # Pause when 'q' is entered\n",
    "    cont = input('Paused - press ENTER to continue, q to exit: ')\n",
    "    if cont == 'q':\n",
    "        break"
   ]
  }
 ],
 "metadata": {
  "kernelspec": {
   "display_name": "Python 3.7 (tensorflow)",
   "language": "python",
   "name": "tensorflow"
  },
  "language_info": {
   "codemirror_mode": {
    "name": "ipython",
    "version": 3
   },
   "file_extension": ".py",
   "mimetype": "text/x-python",
   "name": "python",
   "nbconvert_exporter": "python",
   "pygments_lexer": "ipython3",
   "version": "3.8.11"
  }
 },
 "nbformat": 4,
 "nbformat_minor": 5
}
